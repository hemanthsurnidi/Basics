{
  "nbformat": 4,
  "nbformat_minor": 0,
  "metadata": {
    "colab": {
      "provenance": []
    },
    "kernelspec": {
      "name": "python3",
      "display_name": "Python 3"
    },
    "language_info": {
      "name": "python"
    }
  },
  "cells": [
    {
      "cell_type": "markdown",
      "source": [
        "**THEORY BASIC QUESTIONS**"
      ],
      "metadata": {
        "id": "6QQLtDl5F8bm"
      }
    },
    {
      "cell_type": "markdown",
      "source": [
        "1. What is Python, and why is it popular?\n",
        "\n",
        "A. Python is a high-level, interpreted programming language known for its simple syntax, versatility, and strong community support.\n",
        "\n",
        "2. What is an interpreter in Python?\n",
        "\n",
        "A. An interpreter executes Python code line by line, converting it into machine code for execution.\n",
        "\n",
        "3. What are pre-defined keywords in Python?\n",
        "\n",
        "A. Pre-defined keywords are reserved words with special meanings, like if, else, for, while, def, etc.\n",
        "\n",
        "4. Can keywords be used as variable names?\n",
        "\n",
        "A. No, keywords cannot be used as variable names because they are reserved for specific functions.\n",
        "\n",
        "5. What is mutability in Python?\n",
        "\n",
        "A. Mutability refers to whether an object’s value can be changed after creation.\n",
        "\n",
        "6. Why are lists mutable, but tuples are immutable?\n",
        "\n",
        "A. Lists allow modifications like adding or removing elements, while tuples ensure data integrity and better performance by being immutable.\n",
        "\n",
        "7. What is the difference between == and is operators in Python?\n",
        "\n",
        "A. == checks if values are equal, while is checks if two variables refer to the same object in memory.\n",
        "\n",
        "8. What are logical operators in Python?\n",
        "\n",
        "A. Logical operators (and, or, not) are used to combine conditional statements.\n",
        "\n",
        "9. What is type casting in Python?\n",
        "\n",
        "A. Type casting converts one data type into another, like int(\"10\") converting a string to an integer.\n",
        "\n",
        "10. What is the difference between implicit and explicit type casting?\n",
        "\n",
        "A. Implicit type casting is done automatically (e.g., int to float), while explicit type casting requires manual conversion using functions like int(), float(), etc.\n",
        "\n",
        "11. What is the purpose of conditional statements in Python?\n",
        "\n",
        "A. Conditional statements (if, elif, else) control the flow of execution based on conditions.\n",
        "\n",
        "12. How does the elif statement work?\n",
        "\n",
        "A. elif (short for \"else if\") allows multiple conditions to be checked sequentially, executing the first true condition.\n",
        "\n",
        "13. What is the difference between for and while loops?\n",
        "\n",
        "A. for loops iterate over a sequence, while while loops run as long as a condition remains true.\n",
        "\n",
        "14. Describe a scenario where a while loop is more suitable than a for loop?\n",
        "\n",
        "A. A while loop is better when the number of iterations is unknown, like waiting for user input or checking sensor data."
      ],
      "metadata": {
        "id": "O8rOuiLVHd8n"
      }
    },
    {
      "cell_type": "markdown",
      "source": [
        "**PRACTICAL BASIC QUESTIONS**\n"
      ],
      "metadata": {
        "id": "PzTIIX43Nmgs"
      }
    },
    {
      "cell_type": "code",
      "source": [
        "# 1. Print \"Hello, World!\"\n",
        "print(\"Hello, World!\")"
      ],
      "metadata": {
        "colab": {
          "base_uri": "https://localhost:8080/"
        },
        "id": "RnNHVn2cIkD_",
        "outputId": "cf51417f-26cd-4660-9688-119f0c7ea19e"
      },
      "execution_count": 1,
      "outputs": [
        {
          "output_type": "stream",
          "name": "stdout",
          "text": [
            "Hello, World!\n"
          ]
        }
      ]
    },
    {
      "cell_type": "code",
      "source": [
        "# 2. Display your name and age\n",
        "name = \"Hemanth\"\n",
        "age = 19\n",
        "print(f\"My name is {name} and I am {age} years old.\")"
      ],
      "metadata": {
        "colab": {
          "base_uri": "https://localhost:8080/"
        },
        "id": "GYSgt50fIkUX",
        "outputId": "ff700e7b-ee06-4e53-f4ca-0a67334a5cd2"
      },
      "execution_count": 2,
      "outputs": [
        {
          "output_type": "stream",
          "name": "stdout",
          "text": [
            "My name is Hemanth and I am 19 years old.\n"
          ]
        }
      ]
    },
    {
      "cell_type": "code",
      "source": [
        "# 3. Print all pre-defined keywords using the keyword library\n",
        "import keyword\n",
        "print(keyword.kwlist)\n"
      ],
      "metadata": {
        "colab": {
          "base_uri": "https://localhost:8080/"
        },
        "id": "SxLJ9iBHIkWs",
        "outputId": "1441da4e-677d-4ac3-8b0e-8a97de47b9ce"
      },
      "execution_count": 9,
      "outputs": [
        {
          "output_type": "stream",
          "name": "stdout",
          "text": [
            "['False', 'None', 'True', 'and', 'as', 'assert', 'async', 'await', 'break', 'class', 'continue', 'def', 'del', 'elif', 'else', 'except', 'finally', 'for', 'from', 'global', 'if', 'import', 'in', 'is', 'lambda', 'nonlocal', 'not', 'or', 'pass', 'raise', 'return', 'try', 'while', 'with', 'yield']\n",
            "['False', 'None', 'True', 'and', 'as', 'assert', 'async', 'await', 'break', 'class', 'continue', 'def', 'del', 'elif', 'else', 'except', 'finally', 'for', 'from', 'global', 'if', 'import', 'in', 'is', 'lambda', 'nonlocal', 'not', 'or', 'pass', 'raise', 'return', 'try', 'while', 'with', 'yield']\n"
          ]
        }
      ]
    },
    {
      "cell_type": "code",
      "source": [
        "# 4. Check if a given word is a Python keyword\n",
        "import keyword\n",
        "word = input(\"Enter a word: \")\n",
        "print(f\"'{word}' is a keyword: {keyword.iskeyword(word)}\")"
      ],
      "metadata": {
        "colab": {
          "base_uri": "https://localhost:8080/"
        },
        "id": "-u4j244NIkZ6",
        "outputId": "06b43908-3009-4888-ade8-35e1480f484a"
      },
      "execution_count": 4,
      "outputs": [
        {
          "output_type": "stream",
          "name": "stdout",
          "text": [
            "Enter a word: hemanth\n",
            "'hemanth' is a keyword: False\n"
          ]
        }
      ]
    },
    {
      "cell_type": "code",
      "source": [
        "# 5. Demonstrate mutability of lists and immutability of tuples\n",
        "my_list = [1, 2, 3]\n",
        "my_tuple = (1, 2, 3)\n",
        "\n",
        "my_list[0] = 10  # Allowed\n",
        "# my_tuple[0] = 10  # Uncommenting this will cause an error\n",
        "\n",
        "print(\"Modified List:\", my_list)\n",
        "print(\"Tuple remains unchanged:\", my_tuple)"
      ],
      "metadata": {
        "colab": {
          "base_uri": "https://localhost:8080/"
        },
        "id": "dQlwF46_Ikc9",
        "outputId": "cafbd19a-b3b7-4483-b74e-5129bb00c52c"
      },
      "execution_count": 5,
      "outputs": [
        {
          "output_type": "stream",
          "name": "stdout",
          "text": [
            "Modified List: [10, 2, 3]\n",
            "Tuple remains unchanged: (1, 2, 3)\n"
          ]
        }
      ]
    },
    {
      "cell_type": "code",
      "source": [
        "# 6. Function demonstrating mutable and immutable arguments\n",
        "def modify_data(mutable_list, immutable_var):\n",
        "    mutable_list.append(4)\n",
        "    immutable_var += 1\n",
        "    print(\"Inside function:\", mutable_list, immutable_var)\n",
        "\n",
        "my_list = [1, 2, 3]\n",
        "num = 5\n",
        "modify_data(my_list, num)\n",
        "print(\"Outside function:\", my_list, num)\n"
      ],
      "metadata": {
        "colab": {
          "base_uri": "https://localhost:8080/"
        },
        "id": "IkUw1-70Ikfu",
        "outputId": "b8a0893e-d877-45cd-89c8-716de26ce9f8"
      },
      "execution_count": 6,
      "outputs": [
        {
          "output_type": "stream",
          "name": "stdout",
          "text": [
            "Inside function: [1, 2, 3, 4] 6\n",
            "Outside function: [1, 2, 3, 4] 5\n"
          ]
        }
      ]
    },
    {
      "cell_type": "code",
      "source": [
        "# 7. Perform basic arithmetic operations\n",
        "a = int(input(\"Enter first number: \"))\n",
        "b = int(input(\"Enter second number: \"))\n",
        "\n",
        "print(\"Sum:\", a + b)\n",
        "print(\"Difference:\", a - b)\n",
        "print(\"Product:\", a * b)\n",
        "print(\"Quotient:\", a / b)"
      ],
      "metadata": {
        "colab": {
          "base_uri": "https://localhost:8080/"
        },
        "id": "yczVwhgaIkiR",
        "outputId": "67877c7e-cb15-4371-d4a8-308c2ffeb393"
      },
      "execution_count": 7,
      "outputs": [
        {
          "output_type": "stream",
          "name": "stdout",
          "text": [
            "Enter first number: 10\n",
            "Enter second number: 5\n",
            "Sum: 15\n",
            "Difference: 5\n",
            "Product: 50\n",
            "Quotient: 2.0\n"
          ]
        }
      ]
    },
    {
      "cell_type": "code",
      "source": [
        "# 8. Demonstrate logical operators\n",
        "x = True\n",
        "y = False\n",
        "print(\"x and y:\", x and y)\n",
        "print(\"x or y:\", x or y)\n",
        "print(\"not x:\", not x)"
      ],
      "metadata": {
        "colab": {
          "base_uri": "https://localhost:8080/"
        },
        "id": "ADZgT1nOIkk1",
        "outputId": "01bc6c10-a0c8-464a-cc66-2e6c1febe684"
      },
      "execution_count": 10,
      "outputs": [
        {
          "output_type": "stream",
          "name": "stdout",
          "text": [
            "x and y: False\n",
            "x or y: True\n",
            "not x: False\n"
          ]
        }
      ]
    },
    {
      "cell_type": "code",
      "source": [
        "# 9. Convert user input from string to integer, float, and boolean\n",
        "user_input = input(\"Enter a value: \")\n",
        "print(\"Integer:\", int(user_input))\n",
        "print(\"Float:\", float(user_input))\n",
        "print(\"Boolean:\", bool(user_input))"
      ],
      "metadata": {
        "colab": {
          "base_uri": "https://localhost:8080/"
        },
        "id": "S0ZEE6PkIknT",
        "outputId": "f00a8c33-4813-4cdc-f50c-680d2d02c8e5"
      },
      "execution_count": 11,
      "outputs": [
        {
          "output_type": "stream",
          "name": "stdout",
          "text": [
            "Enter a value: 12\n",
            "Integer: 12\n",
            "Float: 12.0\n",
            "Boolean: True\n"
          ]
        }
      ]
    },
    {
      "cell_type": "code",
      "source": [
        "# 10. Demonstrate type casting with list elements\n",
        "num_list = [\"1\", \"2\", \"3\"]\n",
        "num_list = [int(i) for i in num_list]\n",
        "print(\"Converted List:\", num_list)"
      ],
      "metadata": {
        "colab": {
          "base_uri": "https://localhost:8080/"
        },
        "id": "NMbDQ4ZRIksI",
        "outputId": "a67459b7-6b16-4795-8034-7c6fbc7eaad6"
      },
      "execution_count": 12,
      "outputs": [
        {
          "output_type": "stream",
          "name": "stdout",
          "text": [
            "Converted List: [1, 2, 3]\n"
          ]
        }
      ]
    },
    {
      "cell_type": "code",
      "source": [
        "# 11. Check if a number is positive, negative, or zero\n",
        "num = int(input(\"Enter a number: \"))\n",
        "if num > 0:\n",
        "    print(\"Positive\")\n",
        "elif num < 0:\n",
        "    print(\"Negative\")\n",
        "else:\n",
        "    print(\"Zero\")"
      ],
      "metadata": {
        "colab": {
          "base_uri": "https://localhost:8080/"
        },
        "id": "z1P-HJbtIkut",
        "outputId": "e33c709e-1a72-45ec-8273-adf4c4ba2adc"
      },
      "execution_count": 13,
      "outputs": [
        {
          "output_type": "stream",
          "name": "stdout",
          "text": [
            "Enter a number: 12\n",
            "Positive\n"
          ]
        }
      ]
    },
    {
      "cell_type": "code",
      "source": [
        "# 12. Print numbers from 1 to 10 using a for loop\n",
        "for i in range(1, 11):\n",
        "    print(i, end=\" \")"
      ],
      "metadata": {
        "colab": {
          "base_uri": "https://localhost:8080/"
        },
        "id": "bGOIRGXzIkyb",
        "outputId": "b736ca4f-e14e-49cc-bebc-decae5be843d"
      },
      "execution_count": 14,
      "outputs": [
        {
          "output_type": "stream",
          "name": "stdout",
          "text": [
            "1 2 3 4 5 6 7 8 9 10 "
          ]
        }
      ]
    },
    {
      "cell_type": "code",
      "source": [
        "# 13. Find sum of all even numbers between 1 and 50\n",
        "even_sum = sum(i for i in range(1, 51) if i % 2 == 0)\n",
        "print(\"\\nSum of even numbers:\", even_sum)"
      ],
      "metadata": {
        "colab": {
          "base_uri": "https://localhost:8080/"
        },
        "id": "oqZhFfa0LaH2",
        "outputId": "0cec1f81-b5fc-44f5-f7a6-0a6ccccd121b"
      },
      "execution_count": 15,
      "outputs": [
        {
          "output_type": "stream",
          "name": "stdout",
          "text": [
            "\n",
            "Sum of even numbers: 650\n"
          ]
        }
      ]
    },
    {
      "cell_type": "code",
      "source": [
        "# 14. Reverse a string using a while loop\n",
        "string = input(\"Enter a string: \")\n",
        "reversed_string = \"\"\n",
        "i = len(string) - 1\n",
        "while i >= 0:\n",
        "    reversed_string += string[i]\n",
        "    i -= 1\n",
        "print(\"Reversed String:\", reversed_string)"
      ],
      "metadata": {
        "colab": {
          "base_uri": "https://localhost:8080/"
        },
        "id": "6coAqsAYLaOu",
        "outputId": "ed2edd41-39ac-460a-b5c1-bc01a9ef0b36"
      },
      "execution_count": 16,
      "outputs": [
        {
          "output_type": "stream",
          "name": "stdout",
          "text": [
            "Enter a string: hemanth\n",
            "Reversed String: htnameh\n"
          ]
        }
      ]
    },
    {
      "cell_type": "code",
      "source": [
        "# 15. Calculate factorial using a while loop\n",
        "num = int(input(\"Enter a number: \"))\n",
        "factorial = 1\n",
        "i = num\n",
        "while i > 1:\n",
        "    factorial *= i\n",
        "    i -= 1\n",
        "print(\"Factorial:\", factorial)"
      ],
      "metadata": {
        "colab": {
          "base_uri": "https://localhost:8080/"
        },
        "id": "5clK2qM7LaUJ",
        "outputId": "160481a3-13e8-47c0-f55a-a4ddd8a898a8"
      },
      "execution_count": 18,
      "outputs": [
        {
          "output_type": "stream",
          "name": "stdout",
          "text": [
            "Enter a number: 12\n",
            "Factorial: 479001600\n"
          ]
        }
      ]
    }
  ]
}